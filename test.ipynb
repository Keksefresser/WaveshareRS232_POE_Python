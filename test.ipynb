{
 "cells": [
  {
   "cell_type": "code",
   "execution_count": 33,
   "metadata": {},
   "outputs": [
    {
     "name": "stdout",
     "output_type": "stream",
     "text": [
      "bytearray(b'B70517-010204,256\\n')\n",
      "bytearray(b'0.000000\\n')\n",
      "bytearray(b'0.000000\\n')\n",
      "bytearray(b'OWON,ODP3033,2211006,FV:V3.1.0\\n')\n",
      "bytearray(b'5.499, 5.499, 5.500\\n')\n",
      "bytearray(b'CH3\\n')\n",
      "bytearray(b'1, 0, 0\\n')\n"
     ]
    }
   ],
   "source": [
    "import importlib\n",
    "import waveShareSerialETH\n",
    "importlib.reload(waveShareSerialETH)\n",
    "\n",
    "test = waveShareSerialETH.WaveShareSerialETH(\"192.168.178.12\", 4196)\n",
    "\n",
    "test.open()\n",
    "\n",
    "test.write(b\"*IDN?\\r\\n\")\n",
    "print(test.read(20))\n",
    "\n",
    "test.write(b\"MEAS:CURR?\\r\\n\")\n",
    "print(test.read(20))\n",
    "\n",
    "test.write(b\"MEAS:VOLT?\\r\\n\")\n",
    "print(test.read(20))\n",
    "\n",
    "\n",
    "test.write(b\"MODE CRM\\r\\n\")\n",
    "test.write(b\"RES 10\\r\\n\")\n",
    "\n",
    "test.write(b\"INPUT OFF\\r\\n\")\n",
    "\n",
    "\n",
    "test.close()\n",
    "\n",
    "test = waveShareSerialETH.WaveShareSerialETH(\"192.168.178.10\", 3000)\n",
    "\n",
    "test.open()\n",
    "\n",
    "test.write(b\"*IDN?\\n\")\n",
    "print(test.read(40))\n",
    "\n",
    "test.write(b\"MEAS:VOLT:ALL?\\n\")\n",
    "print(test.read(20))\n",
    "\n",
    "test.write(b\"INST?\\n\")\n",
    "print(test.read(20))\n",
    "\n",
    "test.write(b\"SYST:REM\\n\")\n",
    "\n",
    "test.write(b\"INST CH2\\n\")\n",
    "test.write(b\"INST:NSEL 3\\n\")\n",
    "\n",
    "test.write(b\"VOLT 5.5\\n\")\n",
    "\n",
    "\n",
    "\n",
    "test.write(b\"CHAN:OUTP:ALL 1,0,0\\n\")\n",
    "\n",
    "test.write(b\"CHAN:OUTP:ALL?\\n\")\n",
    "print(test.read(20))\n",
    "\n",
    "test.close()"
   ]
  }
 ],
 "metadata": {
  "kernelspec": {
   "display_name": "Python 3",
   "language": "python",
   "name": "python3"
  },
  "language_info": {
   "codemirror_mode": {
    "name": "ipython",
    "version": 3
   },
   "file_extension": ".py",
   "mimetype": "text/x-python",
   "name": "python",
   "nbconvert_exporter": "python",
   "pygments_lexer": "ipython3",
   "version": "3.9.0"
  },
  "orig_nbformat": 4
 },
 "nbformat": 4,
 "nbformat_minor": 2
}
